{
 "cells": [
  {
   "cell_type": "markdown",
   "metadata": {},
   "source": [
    "# Tugas 1 Metode Numerik\n",
    "\n",
    "Tugas ini bertujuan untuk melatih Anda menguasai bahasa pemrograman Python. Kerjakan tugas ini secara berkelompok dengan anggota kelompok minimal 2 dan maksimal 3. Tugas yang dikerjakan sendiri, tidak akan dinilai. Tulis nama dan NIM kelompok Anda pada cell di bawah ini"
   ]
  },
  {
   "cell_type": "markdown",
   "metadata": {},
   "source": [
    "<span style=\"color:blue\">**[Tulis nama dan NIM anggota kelompok Anda di cell ini]**</span>"
   ]
  },
  {
   "cell_type": "markdown",
   "metadata": {},
   "source": [
    "## Metode Numerik untuk Menghitung Akar kuadrat\n",
    "\n",
    "### Instruksi\n",
    "Saat ini kita terbiasa menghitung nilai akar kuadrat dengan pendekatan analitik, yaitu menggunakan persamaan $y=\\sqrt{x}$. Namun, terdapat cara lain untuk menghitung nilai akar kuadrat dari suatu bilangan, yaitu menggunakan pendekatan numerik. Nilai akar kuadrat dari suatu bilangan dapat didekati dengan persamaan :\n",
    "$$x_i=\\frac{x_{i-1}+\\frac{a}{x_{i-1}}}{2}$$\n",
    "dimana $x_i$ merupakan perkiraan nilai akar kuadrat dari suatu nilai $a$ pada iterasi ke-$i$. Pada awal iterasi, $x$ diberi nilai $a/2$\n",
    "<p />\n",
    "Penghitungan akar kuadrat dilakukan dengan melakukan penghitungan estimasi nilai akar kuadrat secara berulang-ulang sampai error yang dihasilkan pada suatu iterasi bernilai lebih kecil atau sama dengan suatu threshold tertentu yang dimasukkan oleh pengguna. Fungsi error yang digunakan adalah :\n",
    "$$error=\\left | \\frac{x_i-x_{i-1}}{x_i} \\right |$$\n",
    "\n",
    "## Tugas Anda\n",
    "1. Buatlah flowchart proses perhitungan akar kuadrat menggunakan metode numerik. Masukkan image flowchart Anda pada cell selanjutnya\n",
    "2. Lengkapi source code fungsi akar kuadrat pada cell selanjutnya\n",
    "3. Uji fungsi Anda.\n",
    "4. Bandingkan hasil dari metode analitik dan metode numerik dan pengaruh threshold\n",
    "5. Menampilkan hasil akar kuadrat dalam bentuk plot"
   ]
  },
  {
   "cell_type": "markdown",
   "metadata": {},
   "source": [
    "<span style=\"color:blue\">**[Masukkan image flowchart Anda di cell ini]**</span>"
   ]
  },
  {
   "cell_type": "code",
   "execution_count": null,
   "metadata": {
    "collapsed": true
   },
   "outputs": [],
   "source": [
    "#lengkapi fungsi di bawah ini\n",
    "def akar_kuadrat(x,threshold):\n",
    "    \n",
    "    return hasil"
   ]
  },
  {
   "cell_type": "code",
   "execution_count": null,
   "metadata": {
    "collapsed": true
   },
   "outputs": [],
   "source": [
    "# Pengujian fungsi akar_kuadrat. Amati hasilnya adn pastikan hasilnya mendekati nilai sebenarnya. Jika tidak, cek ulang fungsi Anda\n",
    "print(akar_kuadrat(16,0.1)) #pastikan hasilnya mendekati 4\n",
    "print(akar_kuadrat(256,0.1)) #pastikan hasilnya mendekati 16"
   ]
  },
  {
   "cell_type": "markdown",
   "metadata": {},
   "source": [
    "Setelah memastikan hasil coding Anda benar, mari kita analisis error yang timbul. Biasanya hasil dari metode numerik akan berbeda dengan hasil dari metode analitik. Pada langkah selanjutnya, kita akan mencoba menghitung error dari metode numerik yang telah kita buat. Perhitungan nilai sejati (nilai sebenarnya) menggunakan fungsi math.sqrt() dari module math. Tugas anda adalah menghitung error relatif dan error absolut"
   ]
  },
  {
   "cell_type": "code",
   "execution_count": 3,
   "metadata": {
    "collapsed": true
   },
   "outputs": [],
   "source": [
    "import math\n",
    "hasil_analitik = math.sqrt(16)\n",
    "hasil_numerik = akar_kuadrat(16,0.1)\n",
    "#hitung error absolut dan relatif\n",
    "error_absolut = \n",
    "error_relatif = \n",
    "\n",
    "print(error_absolut)\n",
    "print(error_relatif)"
   ]
  },
  {
   "cell_type": "markdown",
   "metadata": {},
   "source": [
    "Nilai threshold juga mempengaruhi nilai error yang dihasilkan. Pada bagian ini Anda akan mempengaruhi pengaruh threshold terhadap error yang dihasilkan"
   ]
  },
  {
   "cell_type": "code",
   "execution_count": null,
   "metadata": {
    "collapsed": true
   },
   "outputs": [],
   "source": [
    "import math\n",
    "hasil_analitik = math.sqrt(16)\n",
    "\n",
    "hasil_numerik1 = akar_kuadrat(16,0.1)\n",
    "hasil_numerik2 = akar_kuadrat(16,0.01)\n",
    "hasil_numerik3 = akar_kuadrat(16,0.0001)\n",
    "\n",
    "#hitung error absolut dari setiap hasil numerik\n",
    "error_absolut1 = \n",
    "error_absolut2 =\n",
    "error_absolut3 =\n",
    "\n",
    "print(error_absolut1)\n",
    "print(error_absolut2)\n",
    "print(error_absolut3)"
   ]
  },
  {
   "cell_type": "markdown",
   "metadata": {},
   "source": [
    "<span style=\"color:blue\">**[Tulis kesimpulan Anda mengenai pengaruh threshold terhadap error]**</span>"
   ]
  },
  {
   "cell_type": "markdown",
   "metadata": {},
   "source": [
    "Hasil dari suatu fungsi dapat dipahami dengan baik jika ditampilkan secara visual. Pada bagian ini, anda diminta untuk menampilkan plot fungsi akar kuadrat berdasarkan fungsi numerik Anda dengan kriteria sebagai berikut\n",
    "- Nilai x berkisar dari 1 sampai 100 dengan interval 1\n",
    "- Kurva ditampilkan dalam bentuk garis dengan warna hijau\n",
    "- Sumbu x diberi judul 'Nilai x'\n",
    "- Sumbu y diberi judul 'Akar kuadrat x'\n",
    "- Tampilkan legenda di pojok kanan bawah\n",
    "- Beri judul kurva Anda. Judul yang digunakan adalah 'Kurva akar kuadrat'"
   ]
  },
  {
   "cell_type": "code",
   "execution_count": null,
   "metadata": {
    "collapsed": true
   },
   "outputs": [],
   "source": [
    "#tuliskan kode untuk plot Anda"
   ]
  },
  {
   "cell_type": "markdown",
   "metadata": {},
   "source": [
    "<span style=\"color:blue\">**Rename file dengan nama Tugas1-NIM_Mhs1-NIM_Mhs2-NIM_Mhs3.ipynb dan upload di elearning**</span>"
   ]
  }
 ],
 "metadata": {
  "kernelspec": {
   "display_name": "Python 3",
   "language": "python",
   "name": "python3"
  },
  "language_info": {
   "codemirror_mode": {
    "name": "ipython",
    "version": 3
   },
   "file_extension": ".py",
   "mimetype": "text/x-python",
   "name": "python",
   "nbconvert_exporter": "python",
   "pygments_lexer": "ipython3",
   "version": "3.6.2"
  }
 },
 "nbformat": 4,
 "nbformat_minor": 2
}
